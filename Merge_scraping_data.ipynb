{
 "cells": [
  {
   "cell_type": "code",
   "execution_count": null,
   "id": "286d29a9",
   "metadata": {},
   "outputs": [],
   "source": [
    "import json, pathlib\n",
    "\n",
    "haldirams = json.load(open(\"haldirams_menu.json\"))\n",
    "mcd       = json.load(open(\"McDonald's.json\"))\n",
    "\n",
    "kb = {mcd[\"restaurant_name\"]: mcd,\n",
    "      haldirams[\"restaurant_name\"]: haldirams\n",
    "      }\n",
    "\n",
    "pathlib.Path(\"knowledge_base.json\").write_text(\n",
    "    json.dumps(kb, indent=2, ensure_ascii=False), encoding=\"utf-8\"\n",
    ")"
   ]
  }
 ],
 "metadata": {
  "kernelspec": {
   "display_name": "Python 3 (ipykernel)",
   "language": "python",
   "name": "python3"
  },
  "language_info": {
   "codemirror_mode": {
    "name": "ipython",
    "version": 3
   },
   "file_extension": ".py",
   "mimetype": "text/x-python",
   "name": "python",
   "nbconvert_exporter": "python",
   "pygments_lexer": "ipython3",
   "version": "3.11.4"
  }
 },
 "nbformat": 4,
 "nbformat_minor": 5
}
